{
 "cells": [
  {
   "cell_type": "code",
   "execution_count": 8,
   "id": "0d59aa2a",
   "metadata": {},
   "outputs": [],
   "source": [
    "from collections import defaultdict\n",
    "from tqdm import trange\n",
    "from transformers import pipeline\n",
    "from transformers import AutoTokenizer, AutoModelForTokenClassification\n",
    "from openai import OpenAI\n",
    "\n",
    "import numpy as np\n",
    "import json\n",
    "import re"
   ]
  },
  {
   "cell_type": "code",
   "execution_count": 2,
   "id": "4d8d6586",
   "metadata": {},
   "outputs": [],
   "source": [
    "tokenizer = AutoTokenizer.from_pretrained(\"d4data/biomedical-ner-all\")\n",
    "model = AutoModelForTokenClassification.from_pretrained(\"d4data/biomedical-ner-all\")\n",
    "pipe = pipeline(\"ner\", model=model, tokenizer=tokenizer, aggregation_strategy=\"simple\") # pass device=0 if using gpu\n"
   ]
  },
  {
   "cell_type": "code",
   "execution_count": 3,
   "id": "832d5a22",
   "metadata": {},
   "outputs": [],
   "source": [
    "path = '/data1/angela/MSLAB-Research/MIMC/0.1_10.log'\n",
    "data = json.load(open(path,\"r\"))"
   ]
  },
  {
   "cell_type": "code",
   "execution_count": 6,
   "id": "e66b9d5d",
   "metadata": {},
   "outputs": [
    {
     "name": "stdout",
     "output_type": "stream",
     "text": [
      "66-year-old female with history of hypertension, nonobstructive cardiomyopathy with diastolic dysfunction, status post catheterization.\n",
      "-----------------------------------[Ground Truth]-----------------------------------\n",
      "66 - year - old , Age\n",
      "female , Sex\n",
      "hyper , History\n",
      "nonobstructive cardiomyopathy , History\n",
      "dia , History\n",
      "status , History\n",
      "\n",
      "66-year-old female with hypertension, nonobstructive cardiomyopathy with diastolic dysfunction, post catheterization.\n",
      "-----------------------------------[Prediction]-----------------------------------\n",
      "66 - year - old , Age\n",
      "female , Sex\n",
      "hyper , History\n",
      "nonobstructive cardiomyopathy , History\n",
      "dia , Detailed_description\n"
     ]
    }
   ],
   "source": [
    "index = 60\n",
    "print(data['gt'][index])\n",
    "print(\"-\"*35+\"[Ground Truth]\"+\"-\"*35)\n",
    "gt_dict = dict()\n",
    "for ent in pipe(data['gt'][index]):\n",
    "    gt_dict[ent['entity_group']] = ent['word']\n",
    "    print(ent['word'], \",\", ent['entity_group'])\n",
    "print(\"\") \n",
    "print(data['pred'][index])\n",
    "print(\"-\"*35+\"[Prediction]\"+\"-\"*35)\n",
    "pred_dict = dict()\n",
    "for ent in pipe(data['pred'][index]):\n",
    "    pred_dict[ent['entity_group']] = ent['word']\n",
    "    print(ent['word'], \",\", ent['entity_group'])"
   ]
  },
  {
   "cell_type": "code",
   "execution_count": 4,
   "id": "577391da",
   "metadata": {},
   "outputs": [],
   "source": [
    "def find_age(word):\n",
    "    template = re.compile(r'[0-9]+')\n",
    "    age = template.findall(word)\n",
    "    if len(age) != 0:\n",
    "        return age[0]\n",
    "    else:\n",
    "        return -1\n",
    "\n",
    "def find_gender(word):\n",
    "    if word == \"man\" or word == \"gentleman\" or word == \"gentlemen\" or word == \"boy\" or  word == \"dad\" or word == \"male\":\n",
    "        return \"male\"\n",
    "    if word == \"woman\" or word == \"female\" or word == \"lady\" or word == \"mother\" or  word == \"girl\":\n",
    "        return \"female\"\n",
    "    return \"none\"\n",
    "\n",
    "def synonym(word1, word2):\n",
    "    client = OpenAI()\n",
    "\n",
    "    completion = client.chat.completions.create(\n",
    "        model=\"gpt-3.5-turbo\",\n",
    "        temperature=0.8,\n",
    "        messages=[\n",
    "            {\"role\": \"system\", \"content\": \"You are a useful assistant.\"},\n",
    "            {\"role\": \"user\", \"content\": \"If two words or sentences are same, please output yes. If two words or sentences have the similar meaning, please output yes.\"},\n",
    "            {\"role\": \"user\", \"content\": word1},\n",
    "            {\"role\": \"user\", \"content\": word2},\n",
    "        ]\n",
    "    )\n",
    "\n",
    "    ans = completion.choices[0].message.content\n",
    "\n",
    "    return ans"
   ]
  },
  {
   "cell_type": "code",
   "execution_count": 29,
   "id": "89ec403f",
   "metadata": {},
   "outputs": [
    {
     "name": "stdout",
     "output_type": "stream",
     "text": [
      "Yes.\n",
      "True\n"
     ]
    }
   ],
   "source": [
    "w1 = \"##patic cirrhosis\"\n",
    "w2 = \"##patic cirrhosis\"\n",
    "ans = synonym(w1, w2)\n",
    "print(ans)\n",
    "print((\"Yes\" in ans) or (\"yes\" in ans))"
   ]
  },
  {
   "cell_type": "code",
   "execution_count": null,
   "id": "56198a3b",
   "metadata": {},
   "outputs": [],
   "source": [
    "hit = defaultdict(list)\n",
    "\n",
    "for index in trange(len(data['gt'])):\n",
    "    gt_dict = dict()\n",
    "    for ent in pipe(data['gt'][index]):\n",
    "        gt_dict[ent['entity_group']] = ent['word']\n",
    "\n",
    "    pred_dict = dict()\n",
    "    for ent in pipe(data['pred'][index]):\n",
    "        pred_dict[ent['entity_group']] = ent['word']\n",
    "\n",
    "    for k, v in gt_dict.items():\n",
    "        if k == \"Age\" and k in pred_dict:\n",
    "            gt_age = find_age(v)\n",
    "            if gt_age == -1:\n",
    "                continue\n",
    "            if find_age(pred_dict[k]) == gt_age:\n",
    "                hit[k].append(1)\n",
    "            else:\n",
    "                hit[k].append(0)\n",
    "        elif k == \"Sex\" and k in pred_dict:\n",
    "            gt_sex = find_gender(v)\n",
    "            if gt_sex == \"None\":\n",
    "                continue\n",
    "            if find_gender(pred_dict[k]) == gt_sex:\n",
    "                hit[k].append(1)\n",
    "            else:\n",
    "                hit[k].append(0)\n",
    "        elif (k == \"Biological_structure\" or k == \"Sign_symptom\" or k == \"Disease_disorder\" or k == \"History\") and k in pred_dict:\n",
    "            ans = synonym(v, pred_dict[k])\n",
    "            if (\"Yes\" in ans) or (\"yes\" in ans):\n",
    "                hit[k].append(1)\n",
    "            else:\n",
    "                hit[k].append(0)"
   ]
  },
  {
   "cell_type": "code",
   "execution_count": 29,
   "id": "f9d34128",
   "metadata": {},
   "outputs": [
    {
     "name": "stdout",
     "output_type": "stream",
     "text": [
      "Age, 0.9492\n",
      "Sex, 0.9731\n",
      "History, 0.4271\n",
      "Detailed_description, 0.4740\n",
      "Clinical_event, 0.7196\n",
      "Sign_symptom, 0.4950\n",
      "Lab_value, 0.4270\n",
      "Subject, 0.6184\n",
      "Biological_structure, 0.7390\n",
      "Disease_disorder, 0.5307\n",
      "Medication, 0.5758\n",
      "Therapeutic_procedure, 0.4491\n",
      "Occupation, 0.3784\n",
      "Personal_background, 0.6133\n",
      "Nonbiological_location, 0.6385\n",
      "Activity, 0.4701\n",
      "Duration, 0.6891\n",
      "Date, 0.5540\n",
      "Frequency, 0.3182\n",
      "Coreference, 0.3800\n",
      "Distance, 0.5789\n",
      "Diagnostic_procedure, 0.4473\n",
      "Severity, 0.6729\n",
      "Family_history, 0.4474\n",
      "Time, 0.5714\n",
      "Quantitative_concept, 0.3182\n",
      "Qualitative_concept, 0.3333\n",
      "Outcome, 0.0000\n",
      "Color, 0.3333\n",
      "Dosage, 0.1429\n",
      "Volume, 0.5000\n",
      "Area, 0.0000\n",
      "Personal_[back](Biological_structure, 0.0000\n",
      "Other_event, 0.4000\n",
      "Administration, 1.0000\n",
      "Texture, 1.0000\n"
     ]
    }
   ],
   "source": [
    "for k in hit.keys():\n",
    "    print(f\"{k}, {np.mean(hit[k]):.4f}\")"
   ]
  }
 ],
 "metadata": {
  "kernelspec": {
   "display_name": "ml",
   "language": "python",
   "name": "python3"
  },
  "language_info": {
   "codemirror_mode": {
    "name": "ipython",
    "version": 3
   },
   "file_extension": ".py",
   "mimetype": "text/x-python",
   "name": "python",
   "nbconvert_exporter": "python",
   "pygments_lexer": "ipython3",
   "version": "3.9.17"
  }
 },
 "nbformat": 4,
 "nbformat_minor": 5
}
