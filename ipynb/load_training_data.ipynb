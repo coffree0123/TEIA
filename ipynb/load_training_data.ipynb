{
 "cells": [
  {
   "cell_type": "code",
   "execution_count": 1,
   "metadata": {},
   "outputs": [
    {
     "name": "stderr",
     "output_type": "stream",
     "text": [
      "/home/coffree/work/.miniconda3/envs/teia/lib/python3.9/site-packages/tqdm/auto.py:21: TqdmWarning: IProgress not found. Please update jupyter and ipywidgets. See https://ipywidgets.readthedocs.io/en/stable/user_install.html\n",
      "  from .autonotebook import tqdm as notebook_tqdm\n"
     ]
    }
   ],
   "source": [
    "from research.data.data_loader import load_document\n",
    "from research.data.data_processing import get_document_labels, get_document_embs"
   ]
  },
  {
   "cell_type": "code",
   "execution_count": 2,
   "metadata": {},
   "outputs": [
    {
     "name": "stderr",
     "output_type": "stream",
     "text": [
      "Downloading data: 100%|██████████| 17.5M/17.5M [00:01<00:00, 8.85MB/s]\n",
      "Downloading data: 100%|██████████| 872k/872k [00:00<00:00, 1.78MB/s]\n",
      "Downloading data: 100%|██████████| 877k/877k [00:00<00:00, 1.81MB/s]\n",
      "Generating train split: 100%|██████████| 104743/104743 [00:00<00:00, 316204.87 examples/s]\n",
      "Generating validation split: 100%|██████████| 5463/5463 [00:00<00:00, 278278.88 examples/s]\n",
      "Generating test split: 100%|██████████| 5463/5463 [00:00<00:00, 280647.72 examples/s]\n"
     ]
    }
   ],
   "source": [
    "# Step 1: Load dataset.\n",
    "data_dict = load_document(dataset='qnli')\n",
    "documents = data_dict['documents']"
   ]
  },
  {
   "cell_type": "code",
   "execution_count": 3,
   "metadata": {},
   "outputs": [
    {
     "name": "stdout",
     "output_type": "stream",
     "text": [
      "Document example: When did the third Digimon series begin?\n"
     ]
    }
   ],
   "source": [
    "print(f\"Document example: {documents[0]}\")"
   ]
  },
  {
   "cell_type": "code",
   "execution_count": 4,
   "metadata": {},
   "outputs": [
    {
     "name": "stdout",
     "output_type": "stream",
     "text": [
      "Getting preprocess documents embeddings\n"
     ]
    },
    {
     "name": "stderr",
     "output_type": "stream",
     "text": [
      "Batches: 100%|██████████| 14459/14459 [00:06<00:00, 2175.28it/s]\n"
     ]
    }
   ],
   "source": [
    "# Step 2: Get document embeddings.\n",
    "doc_embs = get_document_embs(documents, 'average')"
   ]
  },
  {
   "cell_type": "code",
   "execution_count": 5,
   "metadata": {},
   "outputs": [],
   "source": [
    "# Step 3: Calculate labels.\n",
    "labels, vocabularys = get_document_labels(\n",
    "        documents, dataset='qnli')"
   ]
  },
  {
   "cell_type": "code",
   "execution_count": 6,
   "metadata": {},
   "outputs": [
    {
     "name": "stdout",
     "output_type": "stream",
     "text": [
      "Number of vocab: 71538\n"
     ]
    }
   ],
   "source": [
    "print(f\"Number of vocab: {len(vocabularys)}\")"
   ]
  },
  {
   "cell_type": "code",
   "execution_count": null,
   "metadata": {},
   "outputs": [],
   "source": []
  }
 ],
 "metadata": {
  "kernelspec": {
   "display_name": "teia",
   "language": "python",
   "name": "python3"
  },
  "language_info": {
   "codemirror_mode": {
    "name": "ipython",
    "version": 3
   },
   "file_extension": ".py",
   "mimetype": "text/x-python",
   "name": "python",
   "nbconvert_exporter": "python",
   "pygments_lexer": "ipython3",
   "version": "3.9.21"
  },
  "orig_nbformat": 4
 },
 "nbformat": 4,
 "nbformat_minor": 2
}
